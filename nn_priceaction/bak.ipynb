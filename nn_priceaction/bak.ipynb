{
 "cells": [
  {
   "cell_type": "code",
   "execution_count": 3,
   "metadata": {},
   "outputs": [],
   "source": [
    "import numpy as np\n",
    "import pandas as pd\n",
    "import matplotlib.pyplot as plt\n",
    "import random\n",
    "from sklearn.model_selection import ParameterGrid\n",
    "from hmmlearn.hmm import GaussianHMM"
   ]
  },
  {
   "cell_type": "markdown",
   "metadata": {},
   "source": [
    "1. Load & Preprocess Data"
   ]
  },
  {
   "cell_type": "code",
   "execution_count": null,
   "metadata": {},
   "outputs": [],
   "source": [
    "# Ensure your CSV has at least: Date, Open, High, Low, Close\n",
    "df = pd.read_csv(\"/Data/XAUUSD_04.04.2022-24.01.2025/XAUUSD_1H.csv\", parse_dates=[\"Date\"], index_col=\"Date\")\n",
    "df.sort_index(inplace=True)\n",
    "\n",
    "# Calculate daily returns and 20-day volatility (rolling standard deviation)\n",
    "df[\"Returns\"] = df[\"Close\"].pct_change()\n",
    "df[\"Volatility\"] = df[\"Returns\"].rolling(window=20).std()\n",
    "\n",
    "# Calculate moving averages for filtering (fast and slow)\n",
    "df[\"MA_Fast\"] = df[\"Close\"].rolling(window=20).mean()\n",
    "df[\"MA_Slow\"] = df[\"Close\"].rolling(window=50).mean()\n",
    "\n",
    "# Drop initial NaN rows from indicators\n",
    "df.dropna(inplace=True)\n",
    "df.describe()"
   ]
  },
  {
   "cell_type": "markdown",
   "metadata": {},
   "source": [
    "2. HMM Training & Prediction"
   ]
  },
  {
   "cell_type": "code",
   "execution_count": 5,
   "metadata": {},
   "outputs": [],
   "source": [
    "# Here, we use [Returns, Volatility] as features.\n",
    "\n",
    "X = df[[\"Returns\", \"Volatility\"]].values\n",
    "model = GaussianHMM(n_components=3, covariance_type=\"full\", n_iter=100000)\n",
    "model.fit(X)\n",
    "df[\"HMM_State\"] = model.predict(X)\n",
    "\n",
    "# Assume: 0 = Bullish, 1 = Bearish, 2 = Ranging\n",
    "# Define a preliminary signal based on HMM state:\n",
    "# Bullish (0) signals a long, Bearish (1) signals a short, and Ranging (2) gives no trade.\n",
    "df[\"Signal\"] = 0\n",
    "df.loc[df[\"HMM_State\"] == 0, \"Signal\"] = 1\n",
    "df.loc[df[\"HMM_State\"] == 1, \"Signal\"] = -1"
   ]
  },
  {
   "cell_type": "markdown",
   "metadata": {},
   "source": [
    "3. Enhanced Trade Execution: Filtering & Confirmation"
   ]
  },
  {
   "cell_type": "code",
   "execution_count": 6,
   "metadata": {},
   "outputs": [],
   "source": [
    "# (a) Filter by moving averages: \n",
    "#     Only take long trades if MA_Fast > MA_Slow, and only short if MA_Fast < MA_Slow.\n",
    "df[\"Signal_Filtered\"] = df[\"Signal\"]\n",
    "df.loc[(df[\"Signal\"] == 1) & (df[\"MA_Fast\"] < df[\"MA_Slow\"]), \"Signal_Filtered\"] = 0\n",
    "df.loc[(df[\"Signal\"] == -1) & (df[\"MA_Fast\"] > df[\"MA_Slow\"]), \"Signal_Filtered\"] = 0\n",
    "\n",
    "# (b) Candlestick confirmation: bullish engulfing for longs, bearish engulfing for shorts.\n",
    "df[\"Bullish_Engulfing\"] = (df[\"Close\"] > df[\"Open\"]) & (df[\"Open\"].shift(1) > df[\"Close\"].shift(1))\n",
    "df[\"Bearish_Engulfing\"] = (df[\"Close\"] < df[\"Open\"]) & (df[\"Open\"].shift(1) < df[\"Close\"].shift(1))\n",
    "df[\"Signal_Final\"] = df[\"Signal_Filtered\"]\n",
    "df.loc[(df[\"Signal_Filtered\"] == 1) & (~df[\"Bullish_Engulfing\"]), \"Signal_Final\"] = 0\n",
    "df.loc[(df[\"Signal_Filtered\"] == -1) & (~df[\"Bearish_Engulfing\"]), \"Signal_Final\"] = 0"
   ]
  },
  {
   "cell_type": "markdown",
   "metadata": {},
   "source": [
    "# 4. Backtesting Parameters Setup"
   ]
  },
  {
   "cell_type": "code",
   "execution_count": 7,
   "metadata": {},
   "outputs": [],
   "source": [
    "initial_capital   = 10000    # Starting balance in USD\n",
    "risk_per_trade    = 0.02     # Risk 2% of current capital per trade\n",
    "stop_loss_pct     = 0.01     # 1% stop-loss\n",
    "take_profit_pct   = 0.02     # 2% take-profit\n",
    "trailing_stop_pct = 0.005    # 0.5% trailing stop\n",
    "leverage          = 1       # Leverage factor\n",
    "transaction_cost  = 0.0002   # Transaction cost (spread/commission) per trade (as a fraction)\n",
    "\n",
    "# Create new columns for backtest tracking\n",
    "df[\"Capital\"] = initial_capital\n",
    "df[\"Position\"] = 0   # 0 = no position, 1 = long, -1 = short\n",
    "df[\"Trade_Return\"] = 0  # Return from each trade\n",
    "\n",
    "# Initialize variables for trade management\n",
    "position_size = 0     # Units to trade\n",
    "entry_price   = 0     # Price at which trade is opened\n",
    "highest_price = 0     # For trailing stop (used in long positions)\n",
    "lowest_price  = 0     # For trailing stop (used in short positions)"
   ]
  },
  {
   "cell_type": "markdown",
   "metadata": {},
   "source": [
    "5. Backtesting Loop with Risk Management"
   ]
  },
  {
   "cell_type": "code",
   "execution_count": 8,
   "metadata": {},
   "outputs": [
    {
     "name": "stderr",
     "output_type": "stream",
     "text": [
      "/tmp/ipykernel_4851/2562376219.py:61: FutureWarning: Setting an item of incompatible dtype is deprecated and will raise an error in a future version of pandas. Value '-60.62991532231367' has dtype incompatible with int64, please explicitly cast to a compatible dtype first.\n",
      "  df.at[df.index[i], \"Trade_Return\"] = pnl_adjusted\n",
      "/tmp/ipykernel_4851/2562376219.py:71: FutureWarning: Setting an item of incompatible dtype is deprecated and will raise an error in a future version of pandas. Value '9939.370084677686' has dtype incompatible with int64, please explicitly cast to a compatible dtype first.\n",
      "  df.at[df.index[i], \"Capital\"] = prev_capital\n"
     ]
    }
   ],
   "source": [
    "# We iterate through the dataframe row by row.\n",
    "for i in range(1, len(df)):\n",
    "    # Get today's signal (final signal after all filters)\n",
    "    signal = df[\"Signal_Final\"].iloc[i]\n",
    "    prev_capital = df[\"Capital\"].iloc[i - 1]\n",
    "    current_price = df[\"Close\"].iloc[i]\n",
    "    \n",
    "    # Check if we are NOT in a position and a new trade signal appears\n",
    "    if position_size == 0 and signal != 0:\n",
    "        # Open new trade:\n",
    "        entry_price = current_price\n",
    "        # For a long, risk = (entry_price - stop_loss_price); for a short, risk = (stop_loss_price - entry_price)\n",
    "        # risk_amount = prev_capital * risk_per_trade\n",
    "        risk_amount = 100\n",
    "        position_size = (risk_amount * leverage) / (entry_price * stop_loss_pct)\n",
    "        \n",
    "        # Set initial highest/lowest for trailing stops\n",
    "        if signal == 1:\n",
    "            highest_price = entry_price\n",
    "        elif signal == -1:\n",
    "            lowest_price = entry_price\n",
    "\n",
    "        # Mark the position\n",
    "        df.at[df.index[i], \"Position\"] = signal\n",
    "\n",
    "    # If already in a position, update trade management\n",
    "    elif position_size != 0:\n",
    "        # Calculate the return (price change ratio from entry)\n",
    "        price_change = (current_price - entry_price) / entry_price\n",
    "        # Adjust sign if in a short position\n",
    "        if df[\"Position\"].iloc[i - 1] == -1:\n",
    "            price_change = -price_change\n",
    "        # Calculate profit/loss in USD for this position\n",
    "        pnl = position_size * current_price * price_change\n",
    "\n",
    "        # Update trailing stop levels:\n",
    "        if df[\"Position\"].iloc[i - 1] == 1:  # long position\n",
    "            if current_price > highest_price:\n",
    "                highest_price = current_price\n",
    "        elif df[\"Position\"].iloc[i - 1] == -1:  # short position\n",
    "            if current_price < lowest_price:\n",
    "                lowest_price = current_price\n",
    "\n",
    "        # Check exit conditions:\n",
    "        exit_trade = False\n",
    "        # Stop-loss or take-profit conditions:\n",
    "        if price_change <= -stop_loss_pct or price_change >= take_profit_pct:\n",
    "            exit_trade = True\n",
    "        # Trailing stop condition for long positions:\n",
    "        if df[\"Position\"].iloc[i - 1] == 1 and current_price < highest_price * (1 - trailing_stop_pct):\n",
    "            exit_trade = True\n",
    "        # Trailing stop condition for short positions:\n",
    "        if df[\"Position\"].iloc[i - 1] == -1 and current_price > lowest_price * (1 + trailing_stop_pct):\n",
    "            exit_trade = True\n",
    "\n",
    "        if exit_trade:\n",
    "            # Deduct transaction cost for exiting the trade.\n",
    "            pnl_adjusted = pnl - (transaction_cost * current_price * position_size)\n",
    "            prev_capital += pnl_adjusted\n",
    "            position_size = 0  # Close trade\n",
    "            df.at[df.index[i], \"Trade_Return\"] = pnl_adjusted\n",
    "            df.at[df.index[i], \"Position\"] = 0\n",
    "            entry_price = 0\n",
    "            highest_price = 0\n",
    "            lowest_price = 0\n",
    "        else:\n",
    "            # Hold the trade: record same position\n",
    "            df.at[df.index[i], \"Position\"] = df[\"Position\"].iloc[i - 1]\n",
    "\n",
    "    # Update capital each day\n",
    "    df.at[df.index[i], \"Capital\"] = prev_capital"
   ]
  },
  {
   "cell_type": "markdown",
   "metadata": {},
   "source": [
    "6. Performance Metrics & Visualization"
   ]
  },
  {
   "cell_type": "code",
   "execution_count": 9,
   "metadata": {},
   "outputs": [
    {
     "name": "stdout",
     "output_type": "stream",
     "text": [
      "Performance Metrics:\n",
      "Final Capital: $343284.89\n",
      "Cumulative Return: 34.33x\n",
      "Sharpe Ratio: 0.14\n",
      "Max Drawdown: -70.90%\n",
      "Win Rate: 36.99%\n"
     ]
    },
    {
     "data": {
      "image/png": "[encoded data removed]",
      "text/plain": [
       "<Figure size 1200x600 with 1 Axes>"
      ]
     },
     "metadata": {},
     "output_type": "display_data"
    }
   ],
   "source": [
    "# Compute cumulative returns\n",
    "df[\"Cumulative_Returns\"] = df[\"Capital\"] / initial_capital\n",
    "\n",
    "# Compute daily capital percentage change for Sharpe ratio (avoid 0-change days)\n",
    "capital_returns = df[\"Capital\"].pct_change().dropna()\n",
    "sharpe_ratio = capital_returns.mean() / capital_returns.std() * np.sqrt(252)\n",
    "\n",
    "# Compute maximum drawdown\n",
    "df[\"Peak\"] = df[\"Capital\"].cummax()\n",
    "df[\"Drawdown\"] = (df[\"Capital\"] - df[\"Peak\"]) / df[\"Peak\"]\n",
    "max_drawdown = df[\"Drawdown\"].min()\n",
    "\n",
    "# Compute win rate (only consider days when a trade was closed)\n",
    "closed_trades = df[df[\"Trade_Return\"] != 0][\"Trade_Return\"]\n",
    "win_rate = (closed_trades > 0).sum() / len(closed_trades) if len(closed_trades) > 0 else np.nan\n",
    "\n",
    "print(\"Performance Metrics:\")\n",
    "print(f\"Final Capital: ${df['Capital'].iloc[-1]:.2f}\")\n",
    "print(f\"Cumulative Return: {df['Cumulative_Returns'].iloc[-1]:.2f}x\")\n",
    "print(f\"Sharpe Ratio: {sharpe_ratio:.2f}\")\n",
    "print(f\"Max Drawdown: {max_drawdown:.2%}\")\n",
    "print(f\"Win Rate: {win_rate:.2%}\")\n",
    "\n",
    "# Plot capital curve and drawdowns\n",
    "plt.figure(figsize=(12, 6))\n",
    "plt.plot(df.index, df[\"Capital\"], label=\"Strategy Capital\", color=\"blue\")\n",
    "plt.plot(df.index, df[\"Peak\"], label=\"Capital Peak\", color=\"green\", linestyle=\"--\")\n",
    "plt.fill_between(df.index, df[\"Capital\"], df[\"Peak\"], color='red', alpha=0.3, label=\"Drawdown\")\n",
    "plt.axhline(y=initial_capital, color=\"black\", linestyle=\"--\", label=\"Initial Capital\")\n",
    "plt.title(\"Strategy Capital Curve & Drawdowns\")\n",
    "plt.xlabel(\"Date\")\n",
    "plt.ylabel(\"Capital ($)\")\n",
    "plt.legend()\n",
    "plt.show()"
   ]
  },
  {
   "cell_type": "markdown",
   "metadata": {},
   "source": [
    "7. Walk-Forward Optimization (Parameter Grid)"
   ]
  },
  {
   "cell_type": "code",
   "execution_count": 10,
   "metadata": {},
   "outputs": [
    {
     "name": "stdout",
     "output_type": "stream",
     "text": [
      "\n",
      "Walk-Forward Optimization Results:\n",
      "Best Parameters: {'risk_per_trade': 0.03, 'stop_loss_pct': 0.015, 'take_profit_pct': 0.01}\n",
      "Best Performance (Return proxy): 9030390523657468248064.00\n"
     ]
    }
   ],
   "source": [
    "# Define a grid of parameters for stop loss, take profit, and risk per trade.\n",
    "param_grid = {\n",
    "    \"stop_loss_pct\": [0.005, 0.01, 0.015],\n",
    "    \"take_profit_pct\": [0.01, 0.02, 0.03],\n",
    "    \"risk_per_trade\": [0.01, 0.02, 0.03]\n",
    "}\n",
    "\n",
    "best_params = None\n",
    "best_sharpe = -np.inf\n",
    "\n",
    "# For each parameter combination, run a simplified backtest on the same data\n",
    "for params in ParameterGrid(param_grid):\n",
    "    test_capital = initial_capital\n",
    "    test_position_size = 0\n",
    "    test_entry_price = 0\n",
    "\n",
    "    # Use copies of the parameters for testing:\n",
    "    sl_pct = params[\"stop_loss_pct\"]\n",
    "    tp_pct = params[\"take_profit_pct\"]\n",
    "    risk_trade = params[\"risk_per_trade\"]\n",
    "\n",
    "    # We'll simulate a very simplified backtest loop for this optimization.\n",
    "    for i in range(1, len(df)):\n",
    "        current_price = df[\"Close\"].iloc[i]\n",
    "        # New signal? (we use the same filtered signal from before)\n",
    "        signal = df[\"Signal_Final\"].iloc[i]\n",
    "\n",
    "        if test_position_size == 0 and signal != 0:\n",
    "            test_entry_price = current_price\n",
    "            risk_amount = test_capital * risk_trade\n",
    "            test_position_size = (risk_amount * leverage) / (test_entry_price * sl_pct)\n",
    "        elif test_position_size != 0:\n",
    "            price_change = (current_price - test_entry_price) / test_entry_price\n",
    "            if signal == -1:  # for short trades, invert the price change\n",
    "                price_change = -price_change\n",
    "            pnl = test_position_size * current_price * price_change\n",
    "            if price_change <= -sl_pct or price_change >= tp_pct:\n",
    "                test_capital += pnl\n",
    "                test_position_size = 0\n",
    "    # Calculate Sharpe ratio over this test (using simple returns)\n",
    "    test_return = (test_capital / initial_capital) - 1\n",
    "    # Here we use test_return as a proxy for performance (in real use, record daily returns)\n",
    "    if test_return > best_sharpe:\n",
    "        best_sharpe = test_return\n",
    "        best_params = params\n",
    "\n",
    "print(\"\\nWalk-Forward Optimization Results:\")\n",
    "print(f\"Best Parameters: {best_params}\")\n",
    "print(f\"Best Performance (Return proxy): {best_sharpe:.2f}\")"
   ]
  },
  {
   "cell_type": "markdown",
   "metadata": {},
   "source": [
    "8. Monte Carlo Simulation for Strategy Robustness"
   ]
  },
  {
   "cell_type": "code",
   "execution_count": 11,
   "metadata": {},
   "outputs": [
    {
     "ename": "KeyboardInterrupt",
     "evalue": "",
     "output_type": "error",
     "traceback": [
      "\u001b[0;31m---------------------------------------------------------------------------\u001b[0m",
      "\u001b[0;31mKeyboardInterrupt\u001b[0m                         Traceback (most recent call last)",
      "\u001b[0;32m/tmp/ipykernel_4851/2093136410.py\u001b[0m in \u001b[0;36m?\u001b[0;34m()\u001b[0m\n\u001b[1;32m     11\u001b[0m     \u001b[0mrandom_slippage\u001b[0m \u001b[0;34m=\u001b[0m \u001b[0mrandom\u001b[0m\u001b[0;34m.\u001b[0m\u001b[0muniform\u001b[0m\u001b[0;34m(\u001b[0m\u001b[0;34m-\u001b[0m\u001b[0;36m0.0002\u001b[0m\u001b[0;34m,\u001b[0m \u001b[0;36m0.0002\u001b[0m\u001b[0;34m)\u001b[0m\u001b[0;34m\u001b[0m\u001b[0;34m\u001b[0m\u001b[0m\n\u001b[1;32m     12\u001b[0m \u001b[0;34m\u001b[0m\u001b[0m\n\u001b[1;32m     13\u001b[0m     \u001b[0;32mfor\u001b[0m \u001b[0mi\u001b[0m \u001b[0;32min\u001b[0m \u001b[0mrange\u001b[0m\u001b[0;34m(\u001b[0m\u001b[0;36m1\u001b[0m\u001b[0;34m,\u001b[0m \u001b[0mlen\u001b[0m\u001b[0;34m(\u001b[0m\u001b[0mdf\u001b[0m\u001b[0;34m)\u001b[0m\u001b[0;34m)\u001b[0m\u001b[0;34m:\u001b[0m\u001b[0;34m\u001b[0m\u001b[0;34m\u001b[0m\u001b[0m\n\u001b[1;32m     14\u001b[0m         \u001b[0mcurrent_price\u001b[0m \u001b[0;34m=\u001b[0m \u001b[0mdf\u001b[0m\u001b[0;34m[\u001b[0m\u001b[0;34m\"Close\"\u001b[0m\u001b[0;34m]\u001b[0m\u001b[0;34m.\u001b[0m\u001b[0miloc\u001b[0m\u001b[0;34m[\u001b[0m\u001b[0mi\u001b[0m\u001b[0;34m]\u001b[0m \u001b[0;34m*\u001b[0m \u001b[0;34m(\u001b[0m\u001b[0;36m1\u001b[0m \u001b[0;34m+\u001b[0m \u001b[0mrandom_slippage\u001b[0m\u001b[0;34m)\u001b[0m\u001b[0;34m\u001b[0m\u001b[0;34m\u001b[0m\u001b[0m\n\u001b[0;32m---> 15\u001b[0;31m         \u001b[0msignal\u001b[0m \u001b[0;34m=\u001b[0m \u001b[0mdf\u001b[0m\u001b[0;34m[\u001b[0m\u001b[0;34m\"Signal_Final\"\u001b[0m\u001b[0;34m]\u001b[0m\u001b[0;34m.\u001b[0m\u001b[0miloc\u001b[0m\u001b[0;34m[\u001b[0m\u001b[0mi\u001b[0m\u001b[0;34m]\u001b[0m\u001b[0;34m\u001b[0m\u001b[0;34m\u001b[0m\u001b[0m\n\u001b[0m\u001b[1;32m     16\u001b[0m \u001b[0;34m\u001b[0m\u001b[0m\n\u001b[1;32m     17\u001b[0m         \u001b[0;32mif\u001b[0m \u001b[0msim_position_size\u001b[0m \u001b[0;34m==\u001b[0m \u001b[0;36m0\u001b[0m \u001b[0;32mand\u001b[0m \u001b[0msignal\u001b[0m \u001b[0;34m!=\u001b[0m \u001b[0;36m0\u001b[0m\u001b[0;34m:\u001b[0m\u001b[0;34m\u001b[0m\u001b[0;34m\u001b[0m\u001b[0m\n\u001b[1;32m     18\u001b[0m             \u001b[0msim_entry_price\u001b[0m \u001b[0;34m=\u001b[0m \u001b[0mcurrent_price\u001b[0m\u001b[0;34m\u001b[0m\u001b[0;34m\u001b[0m\u001b[0m\n",
      "\u001b[0;32m~/src/py-ml/.venv/lib/python3.12/site-packages/pandas/core/frame.py\u001b[0m in \u001b[0;36m?\u001b[0;34m(self, key)\u001b[0m\n\u001b[0;32m-> 4062\u001b[0;31m     \u001b[0;32mdef\u001b[0m \u001b[0m__getitem__\u001b[0m\u001b[0;34m(\u001b[0m\u001b[0mself\u001b[0m\u001b[0;34m,\u001b[0m \u001b[0mkey\u001b[0m\u001b[0;34m)\u001b[0m\u001b[0;34m:\u001b[0m\u001b[0;34m\u001b[0m\u001b[0;34m\u001b[0m\u001b[0m\n\u001b[0m\u001b[1;32m   4063\u001b[0m         \u001b[0mcheck_dict_or_set_indexers\u001b[0m\u001b[0;34m(\u001b[0m\u001b[0mkey\u001b[0m\u001b[0;34m)\u001b[0m\u001b[0;34m\u001b[0m\u001b[0;34m\u001b[0m\u001b[0m\n\u001b[1;32m   4064\u001b[0m         \u001b[0mkey\u001b[0m \u001b[0;34m=\u001b[0m \u001b[0mlib\u001b[0m\u001b[0;34m.\u001b[0m\u001b[0mitem_from_zerodim\u001b[0m\u001b[0;34m(\u001b[0m\u001b[0mkey\u001b[0m\u001b[0;34m)\u001b[0m\u001b[0;34m\u001b[0m\u001b[0;34m\u001b[0m\u001b[0m\n\u001b[1;32m   4065\u001b[0m         \u001b[0mkey\u001b[0m \u001b[0;34m=\u001b[0m \u001b[0mcom\u001b[0m\u001b[0;34m.\u001b[0m\u001b[0mapply_if_callable\u001b[0m\u001b[0;34m(\u001b[0m\u001b[0mkey\u001b[0m\u001b[0;34m,\u001b[0m \u001b[0mself\u001b[0m\u001b[0;34m)\u001b[0m\u001b[0;34m\u001b[0m\u001b[0;34m\u001b[0m\u001b[0m\n",
      "\u001b[0;31mKeyboardInterrupt\u001b[0m: "
     ]
    }
   ],
   "source": [
    "n_simulations = 1000\n",
    "simulated_returns = []\n",
    "\n",
    "for sim in range(n_simulations):\n",
    "    # Copy original capital series and introduce random slippage per trade\n",
    "    sim_capital = initial_capital\n",
    "    sim_position_size = 0\n",
    "    sim_entry_price = 0\n",
    "\n",
    "    # Simulate random slippage between -0.0002 and 0.0002\n",
    "    random_slippage = random.uniform(-0.0002, 0.0002)\n",
    "\n",
    "    for i in range(1, len(df)):\n",
    "        current_price = df[\"Close\"].iloc[i] * (1 + random_slippage)\n",
    "        signal = df[\"Signal_Final\"].iloc[i]\n",
    "        \n",
    "        if sim_position_size == 0 and signal != 0:\n",
    "            sim_entry_price = current_price\n",
    "            risk_amount = 100\n",
    "            sim_position_size = (risk_amount * leverage) / (sim_entry_price * stop_loss_pct)\n",
    "        elif sim_position_size != 0:\n",
    "            price_change = (current_price - sim_entry_price) / sim_entry_price\n",
    "            if signal == -1:\n",
    "                price_change = -price_change\n",
    "            pnl = sim_position_size * current_price * price_change\n",
    "            if price_change <= -stop_loss_pct or price_change >= take_profit_pct:\n",
    "                sim_capital += pnl\n",
    "                sim_position_size = 0\n",
    "\n",
    "    simulated_returns.append(sim_capital / initial_capital)\n",
    "\n",
    "expected_return = np.mean(simulated_returns)\n",
    "worst_case = np.percentile(simulated_returns, 5)\n",
    "best_case = np.percentile(simulated_returns, 95)\n",
    "\n",
    "print(\"\\nMonte Carlo Simulation Results:\")\n",
    "print(f\"Expected Return: {expected_return:.2f}x\")\n",
    "print(f\"Worst Case (5th percentile): {worst_case:.2f}x\")\n",
    "print(f\"Best Case (95th percentile): {best_case:.2f}x\")"
   ]
  }
 ],
 "metadata": {
  "kernelspec": {
   "display_name": ".venv",
   "language": "python",
   "name": "python3"
  },
  "language_info": {
   "codemirror_mode": {
    "name": "ipython",
    "version": 3
   },
   "file_extension": ".py",
   "mimetype": "text/x-python",
   "name": "python",
   "nbconvert_exporter": "python",
   "pygments_lexer": "ipython3",
   "version": "3.12.3"
  }
 },
 "nbformat": 4,
 "nbformat_minor": 2
}
