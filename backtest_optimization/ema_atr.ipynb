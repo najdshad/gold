{
 "cells": [
  {
   "cell_type": "code",
   "execution_count": 49,
   "metadata": {},
   "outputs": [],
   "source": [
    "import pandas as pd\n",
    "import numpy as np\n",
    "import matplotlib.pyplot as plt\n",
    "import seaborn as sns"
   ]
  },
  {
   "cell_type": "code",
   "execution_count": 26,
   "metadata": {},
   "outputs": [
    {
     "data": {
      "application/vnd.microsoft.datawrangler.viewer.v0+json": {
       "columns": [
        {
         "name": "Num",
         "rawType": "int64",
         "type": "integer"
        },
        {
         "name": "Date",
         "rawType": "datetime64[ns]",
         "type": "datetime"
        },
        {
         "name": "Type",
         "rawType": "object",
         "type": "string"
        },
        {
         "name": "Direction",
         "rawType": "object",
         "type": "string"
        },
        {
         "name": "Volume",
         "rawType": "float64",
         "type": "float"
        },
        {
         "name": "Price",
         "rawType": "object",
         "type": "string"
        },
        {
         "name": "Commission",
         "rawType": "object",
         "type": "string"
        },
        {
         "name": "Profit",
         "rawType": "object",
         "type": "string"
        },
        {
         "name": "Balance",
         "rawType": "object",
         "type": "string"
        },
        {
         "name": "Comment",
         "rawType": "object",
         "type": "unknown"
        }
       ],
       "conversionMethod": "pd.DataFrame",
       "ref": "5b2420b7-4640-4f30-8688-a8e4c03274dd",
       "rows": [
        [
         "1",
         "2023-01-03 01:00:39",
         "buy",
         "in",
         "0.96",
         "1 828.67",
         "- 2.88",
         "0.00",
         "99 997.12",
         null
        ],
        [
         "2",
         "2023-01-03 13:00:02",
         "sell",
         "out",
         "0.96",
         "1 834.42",
         "0.00",
         " 552.00",
         "100 549.12",
         null
        ],
        [
         "3",
         "2023-01-03 15:17:31",
         "buy",
         "in",
         "1.31",
         "1 838.97",
         "- 3.93",
         "0.00",
         "100 545.19",
         null
        ],
        [
         "4",
         "2023-01-03 17:28:39",
         "sell",
         "out",
         "1.31",
         "1 832.77",
         "0.00",
         "- 812.20",
         "99 732.99",
         "sl 1832.77"
        ],
        [
         "5",
         "2023-01-03 17:28:44",
         "buy",
         "in",
         "26.64",
         "1 833.00",
         "- 79.92",
         "0.00",
         "99 653.07",
         null
        ]
       ],
       "shape": {
        "columns": 9,
        "rows": 5
       }
      },
      "text/html": [
       "<div>\n",
       "<style scoped>\n",
       "    .dataframe tbody tr th:only-of-type {\n",
       "        vertical-align: middle;\n",
       "    }\n",
       "\n",
       "    .dataframe tbody tr th {\n",
       "        vertical-align: top;\n",
       "    }\n",
       "\n",
       "    .dataframe thead th {\n",
       "        text-align: right;\n",
       "    }\n",
       "</style>\n",
       "<table border=\"1\" class=\"dataframe\">\n",
       "  <thead>\n",
       "    <tr style=\"text-align: right;\">\n",
       "      <th></th>\n",
       "      <th>Date</th>\n",
       "      <th>Type</th>\n",
       "      <th>Direction</th>\n",
       "      <th>Volume</th>\n",
       "      <th>Price</th>\n",
       "      <th>Commission</th>\n",
       "      <th>Profit</th>\n",
       "      <th>Balance</th>\n",
       "      <th>Comment</th>\n",
       "    </tr>\n",
       "    <tr>\n",
       "      <th>Num</th>\n",
       "      <th></th>\n",
       "      <th></th>\n",
       "      <th></th>\n",
       "      <th></th>\n",
       "      <th></th>\n",
       "      <th></th>\n",
       "      <th></th>\n",
       "      <th></th>\n",
       "      <th></th>\n",
       "    </tr>\n",
       "  </thead>\n",
       "  <tbody>\n",
       "    <tr>\n",
       "      <th>1</th>\n",
       "      <td>2023-01-03 01:00:39</td>\n",
       "      <td>buy</td>\n",
       "      <td>in</td>\n",
       "      <td>0.96</td>\n",
       "      <td>1 828.67</td>\n",
       "      <td>- 2.88</td>\n",
       "      <td>0.00</td>\n",
       "      <td>99 997.12</td>\n",
       "      <td>NaN</td>\n",
       "    </tr>\n",
       "    <tr>\n",
       "      <th>2</th>\n",
       "      <td>2023-01-03 13:00:02</td>\n",
       "      <td>sell</td>\n",
       "      <td>out</td>\n",
       "      <td>0.96</td>\n",
       "      <td>1 834.42</td>\n",
       "      <td>0.00</td>\n",
       "      <td>552.00</td>\n",
       "      <td>100 549.12</td>\n",
       "      <td>NaN</td>\n",
       "    </tr>\n",
       "    <tr>\n",
       "      <th>3</th>\n",
       "      <td>2023-01-03 15:17:31</td>\n",
       "      <td>buy</td>\n",
       "      <td>in</td>\n",
       "      <td>1.31</td>\n",
       "      <td>1 838.97</td>\n",
       "      <td>- 3.93</td>\n",
       "      <td>0.00</td>\n",
       "      <td>100 545.19</td>\n",
       "      <td>NaN</td>\n",
       "    </tr>\n",
       "    <tr>\n",
       "      <th>4</th>\n",
       "      <td>2023-01-03 17:28:39</td>\n",
       "      <td>sell</td>\n",
       "      <td>out</td>\n",
       "      <td>1.31</td>\n",
       "      <td>1 832.77</td>\n",
       "      <td>0.00</td>\n",
       "      <td>- 812.20</td>\n",
       "      <td>99 732.99</td>\n",
       "      <td>sl 1832.77</td>\n",
       "    </tr>\n",
       "    <tr>\n",
       "      <th>5</th>\n",
       "      <td>2023-01-03 17:28:44</td>\n",
       "      <td>buy</td>\n",
       "      <td>in</td>\n",
       "      <td>26.64</td>\n",
       "      <td>1 833.00</td>\n",
       "      <td>- 79.92</td>\n",
       "      <td>0.00</td>\n",
       "      <td>99 653.07</td>\n",
       "      <td>NaN</td>\n",
       "    </tr>\n",
       "  </tbody>\n",
       "</table>\n",
       "</div>"
      ],
      "text/plain": [
       "                   Date  Type Direction  Volume     Price Commission  \\\n",
       "Num                                                                    \n",
       "1   2023-01-03 01:00:39   buy        in    0.96  1 828.67     - 2.88   \n",
       "2   2023-01-03 13:00:02  sell       out    0.96  1 834.42       0.00   \n",
       "3   2023-01-03 15:17:31   buy        in    1.31  1 838.97     - 3.93   \n",
       "4   2023-01-03 17:28:39  sell       out    1.31  1 832.77       0.00   \n",
       "5   2023-01-03 17:28:44   buy        in   26.64  1 833.00    - 79.92   \n",
       "\n",
       "       Profit     Balance     Comment  \n",
       "Num                                    \n",
       "1        0.00   99 997.12         NaN  \n",
       "2      552.00  100 549.12         NaN  \n",
       "3        0.00  100 545.19         NaN  \n",
       "4    - 812.20   99 732.99  sl 1832.77  \n",
       "5        0.00   99 653.07         NaN  "
      ]
     },
     "execution_count": 26,
     "metadata": {},
     "output_type": "execute_result"
    }
   ],
   "source": [
    "# Load backtest results\n",
    "file_path = 'backtest_results.csv'  # Update with your actual file path\n",
    "data = pd.read_csv(file_path)\n",
    "\n",
    "# Ensure datetime format if there's a timestamp column\n",
    "if 'Date' in data.columns:\n",
    "    data['Date'] = pd.to_datetime(data['Date'])\n",
    "    data.set_index('Num', inplace=True)\n",
    "\n",
    "data.drop(columns=['Swap', 'Symbol', 'Order', 'Unnamed: 0'], inplace=True)\n",
    "\n",
    "# Inspect the data\n",
    "data.head()"
   ]
  },
  {
   "cell_type": "code",
   "execution_count": 33,
   "metadata": {},
   "outputs": [
    {
     "data": {
      "application/vnd.microsoft.datawrangler.viewer.v0+json": {
       "columns": [
        {
         "name": "index",
         "rawType": "int64",
         "type": "integer"
        },
        {
         "name": "Num",
         "rawType": "int64",
         "type": "integer"
        },
        {
         "name": "Date",
         "rawType": "datetime64[ns]",
         "type": "datetime"
        },
        {
         "name": "Type",
         "rawType": "object",
         "type": "string"
        },
        {
         "name": "Direction",
         "rawType": "object",
         "type": "string"
        },
        {
         "name": "Volume",
         "rawType": "float64",
         "type": "float"
        },
        {
         "name": "Price",
         "rawType": "float64",
         "type": "float"
        },
        {
         "name": "Commission",
         "rawType": "float64",
         "type": "float"
        },
        {
         "name": "Profit",
         "rawType": "float64",
         "type": "float"
        },
        {
         "name": "Balance",
         "rawType": "float64",
         "type": "float"
        },
        {
         "name": "Comment",
         "rawType": "object",
         "type": "unknown"
        }
       ],
       "conversionMethod": "pd.DataFrame",
       "ref": "84af8688-d557-4cc6-9b12-7b593b2a64a6",
       "rows": [
        [
         "0",
         "1",
         "2023-01-03 01:00:39",
         "buy",
         "in",
         "0.96",
         "1828.67",
         "-2.88",
         "0.0",
         "99997.12",
         null
        ],
        [
         "1",
         "2",
         "2023-01-03 13:00:02",
         "sell",
         "out",
         "0.96",
         "1834.42",
         "0.0",
         "552.0",
         "100549.12",
         null
        ],
        [
         "2",
         "3",
         "2023-01-03 15:17:31",
         "buy",
         "in",
         "1.31",
         "1838.97",
         "-3.93",
         "0.0",
         "100545.19",
         null
        ],
        [
         "3",
         "4",
         "2023-01-03 17:28:39",
         "sell",
         "out",
         "1.31",
         "1832.77",
         "0.0",
         "-812.2",
         "99732.99",
         "sl 1832.77"
        ],
        [
         "4",
         "5",
         "2023-01-03 17:28:44",
         "buy",
         "in",
         "26.64",
         "1833.0",
         "-79.92",
         "0.0",
         "99653.07",
         null
        ]
       ],
       "shape": {
        "columns": 10,
        "rows": 5
       }
      },
      "text/html": [
       "<div>\n",
       "<style scoped>\n",
       "    .dataframe tbody tr th:only-of-type {\n",
       "        vertical-align: middle;\n",
       "    }\n",
       "\n",
       "    .dataframe tbody tr th {\n",
       "        vertical-align: top;\n",
       "    }\n",
       "\n",
       "    .dataframe thead th {\n",
       "        text-align: right;\n",
       "    }\n",
       "</style>\n",
       "<table border=\"1\" class=\"dataframe\">\n",
       "  <thead>\n",
       "    <tr style=\"text-align: right;\">\n",
       "      <th></th>\n",
       "      <th>Num</th>\n",
       "      <th>Date</th>\n",
       "      <th>Type</th>\n",
       "      <th>Direction</th>\n",
       "      <th>Volume</th>\n",
       "      <th>Price</th>\n",
       "      <th>Commission</th>\n",
       "      <th>Profit</th>\n",
       "      <th>Balance</th>\n",
       "      <th>Comment</th>\n",
       "    </tr>\n",
       "  </thead>\n",
       "  <tbody>\n",
       "    <tr>\n",
       "      <th>0</th>\n",
       "      <td>1</td>\n",
       "      <td>2023-01-03 01:00:39</td>\n",
       "      <td>buy</td>\n",
       "      <td>in</td>\n",
       "      <td>0.96</td>\n",
       "      <td>1828.67</td>\n",
       "      <td>-2.88</td>\n",
       "      <td>0.0</td>\n",
       "      <td>99997.12</td>\n",
       "      <td>NaN</td>\n",
       "    </tr>\n",
       "    <tr>\n",
       "      <th>1</th>\n",
       "      <td>2</td>\n",
       "      <td>2023-01-03 13:00:02</td>\n",
       "      <td>sell</td>\n",
       "      <td>out</td>\n",
       "      <td>0.96</td>\n",
       "      <td>1834.42</td>\n",
       "      <td>0.00</td>\n",
       "      <td>552.0</td>\n",
       "      <td>100549.12</td>\n",
       "      <td>NaN</td>\n",
       "    </tr>\n",
       "    <tr>\n",
       "      <th>2</th>\n",
       "      <td>3</td>\n",
       "      <td>2023-01-03 15:17:31</td>\n",
       "      <td>buy</td>\n",
       "      <td>in</td>\n",
       "      <td>1.31</td>\n",
       "      <td>1838.97</td>\n",
       "      <td>-3.93</td>\n",
       "      <td>0.0</td>\n",
       "      <td>100545.19</td>\n",
       "      <td>NaN</td>\n",
       "    </tr>\n",
       "    <tr>\n",
       "      <th>3</th>\n",
       "      <td>4</td>\n",
       "      <td>2023-01-03 17:28:39</td>\n",
       "      <td>sell</td>\n",
       "      <td>out</td>\n",
       "      <td>1.31</td>\n",
       "      <td>1832.77</td>\n",
       "      <td>0.00</td>\n",
       "      <td>-812.2</td>\n",
       "      <td>99732.99</td>\n",
       "      <td>sl 1832.77</td>\n",
       "    </tr>\n",
       "    <tr>\n",
       "      <th>4</th>\n",
       "      <td>5</td>\n",
       "      <td>2023-01-03 17:28:44</td>\n",
       "      <td>buy</td>\n",
       "      <td>in</td>\n",
       "      <td>26.64</td>\n",
       "      <td>1833.00</td>\n",
       "      <td>-79.92</td>\n",
       "      <td>0.0</td>\n",
       "      <td>99653.07</td>\n",
       "      <td>NaN</td>\n",
       "    </tr>\n",
       "  </tbody>\n",
       "</table>\n",
       "</div>"
      ],
      "text/plain": [
       "   Num                Date  Type Direction  Volume    Price  Commission  \\\n",
       "0    1 2023-01-03 01:00:39   buy        in    0.96  1828.67       -2.88   \n",
       "1    2 2023-01-03 13:00:02  sell       out    0.96  1834.42        0.00   \n",
       "2    3 2023-01-03 15:17:31   buy        in    1.31  1838.97       -3.93   \n",
       "3    4 2023-01-03 17:28:39  sell       out    1.31  1832.77        0.00   \n",
       "4    5 2023-01-03 17:28:44   buy        in   26.64  1833.00      -79.92   \n",
       "\n",
       "   Profit    Balance     Comment  \n",
       "0     0.0   99997.12         NaN  \n",
       "1   552.0  100549.12         NaN  \n",
       "2     0.0  100545.19         NaN  \n",
       "3  -812.2   99732.99  sl 1832.77  \n",
       "4     0.0   99653.07         NaN  "
      ]
     },
     "execution_count": 33,
     "metadata": {},
     "output_type": "execute_result"
    }
   ],
   "source": [
    "# Load the CSV file\n",
    "df = pd.read_csv('fixed.csv', delimiter=',', skipinitialspace=True)\n",
    "\n",
    "# Clean numeric columns (remove spaces and convert to float)\n",
    "numeric_cols = ['Price', 'Commission', 'Profit', 'Balance']\n",
    "for col in numeric_cols:\n",
    "    df[col] = df[col].str.replace(' ', '').astype(float)\n",
    "    \n",
    "# Convert 'Date' to datetime\n",
    "df['Date'] = pd.to_datetime(df['Date'])\n",
    "df.head()"
   ]
  },
  {
   "cell_type": "markdown",
   "metadata": {},
   "source": [
    "Pair Entry and Exit Trades"
   ]
  },
  {
   "cell_type": "code",
   "execution_count": 47,
   "metadata": {},
   "outputs": [],
   "source": [
    "trades = []\n",
    "\n",
    "# Iterate through pairs of rows (entry 'in' and exit 'out')\n",
    "for i in range(0, len(df)-1, 2):\n",
    "    entry = df.iloc[i]\n",
    "    exit = df.iloc[i+1]\n",
    "    \n",
    "    if entry['Direction'] == 'in' and exit['Direction'] == 'out':\n",
    "        trade = {\n",
    "            'EntryDate': entry['Date'],\n",
    "            'ExitDate': exit['Date'],\n",
    "            'Type': entry['Type'],\n",
    "            'Volume': entry['Volume'],\n",
    "            'EntryPrice': entry['Price'],\n",
    "            'ExitPrice': exit['Price'],\n",
    "            'Profit': exit['Profit'],\n",
    "            'StopLoss': 'sl' in str(exit['Comment']).lower(),\n",
    "            'Duration': (exit['Date'] - entry['Date']).total_seconds() / 60  # in minutes\n",
    "        }\n",
    "        trades.append(trade)\n",
    "\n",
    "trades_df = pd.DataFrame(trades)"
   ]
  },
  {
   "cell_type": "markdown",
   "metadata": {},
   "source": [
    "Feature Engineering"
   ]
  },
  {
   "cell_type": "code",
   "execution_count": 48,
   "metadata": {},
   "outputs": [
    {
     "data": {
      "application/vnd.microsoft.datawrangler.viewer.v0+json": {
       "columns": [
        {
         "name": "index",
         "rawType": "int64",
         "type": "integer"
        },
        {
         "name": "EntryDate",
         "rawType": "datetime64[ns]",
         "type": "datetime"
        },
        {
         "name": "ExitDate",
         "rawType": "datetime64[ns]",
         "type": "datetime"
        },
        {
         "name": "Type",
         "rawType": "object",
         "type": "string"
        },
        {
         "name": "Volume",
         "rawType": "float64",
         "type": "float"
        },
        {
         "name": "EntryPrice",
         "rawType": "float64",
         "type": "float"
        },
        {
         "name": "ExitPrice",
         "rawType": "float64",
         "type": "float"
        },
        {
         "name": "Profit",
         "rawType": "float64",
         "type": "float"
        },
        {
         "name": "StopLoss",
         "rawType": "bool",
         "type": "boolean"
        },
        {
         "name": "Duration",
         "rawType": "float64",
         "type": "float"
        },
        {
         "name": "EntryHour",
         "rawType": "int32",
         "type": "integer"
        },
        {
         "name": "EntryDay",
         "rawType": "object",
         "type": "string"
        },
        {
         "name": "PriceChangePct",
         "rawType": "float64",
         "type": "float"
        },
        {
         "name": "ReturnPct",
         "rawType": "float64",
         "type": "float"
        }
       ],
       "conversionMethod": "pd.DataFrame",
       "ref": "2123b2e5-8700-4c09-9340-a7cdf52367fd",
       "rows": [
        [
         "0",
         "2023-01-03 01:00:39",
         "2023-01-03 13:00:02",
         "buy",
         "0.96",
         "1828.67",
         "1834.42",
         "552.0",
         "False",
         "719.3833333333333",
         "1",
         "Tuesday",
         "0.31443617492494547",
         "0.3144361749249454"
        ],
        [
         "1",
         "2023-01-03 15:17:31",
         "2023-01-03 17:28:39",
         "buy",
         "1.31",
         "1838.97",
         "1832.77",
         "-812.2",
         "True",
         "131.13333333333333",
         "15",
         "Tuesday",
         "-0.33714524978656774",
         "-0.3371452497865653"
        ],
        [
         "2",
         "2023-01-03 17:28:44",
         "2023-01-03 17:30:29",
         "buy",
         "26.64",
         "1833.0",
         "1832.64",
         "-959.04",
         "True",
         "1.75",
         "17",
         "Tuesday",
         "-0.019639934533546097",
         "-0.01963993453355155"
        ],
        [
         "3",
         "2023-01-03 22:55:02",
         "2023-01-04 02:00:00",
         "buy",
         "2.31",
         "1838.35",
         "1836.45",
         "-438.9",
         "False",
         "184.96666666666667",
         "22",
         "Tuesday",
         "-0.10335355073842649",
         "-0.10335355073843391"
        ],
        [
         "4",
         "2023-01-04 03:16:37",
         "2023-01-04 17:15:00",
         "buy",
         "2.25",
         "1839.48",
         "1850.17",
         "2405.25",
         "False",
         "838.3833333333333",
         "3",
         "Wednesday",
         "0.5811424967925748",
         "0.5811424967925718"
        ]
       ],
       "shape": {
        "columns": 13,
        "rows": 5
       }
      },
      "text/html": [
       "<div>\n",
       "<style scoped>\n",
       "    .dataframe tbody tr th:only-of-type {\n",
       "        vertical-align: middle;\n",
       "    }\n",
       "\n",
       "    .dataframe tbody tr th {\n",
       "        vertical-align: top;\n",
       "    }\n",
       "\n",
       "    .dataframe thead th {\n",
       "        text-align: right;\n",
       "    }\n",
       "</style>\n",
       "<table border=\"1\" class=\"dataframe\">\n",
       "  <thead>\n",
       "    <tr style=\"text-align: right;\">\n",
       "      <th></th>\n",
       "      <th>EntryDate</th>\n",
       "      <th>ExitDate</th>\n",
       "      <th>Type</th>\n",
       "      <th>Volume</th>\n",
       "      <th>EntryPrice</th>\n",
       "      <th>ExitPrice</th>\n",
       "      <th>Profit</th>\n",
       "      <th>StopLoss</th>\n",
       "      <th>Duration</th>\n",
       "      <th>EntryHour</th>\n",
       "      <th>EntryDay</th>\n",
       "      <th>PriceChangePct</th>\n",
       "      <th>ReturnPct</th>\n",
       "    </tr>\n",
       "  </thead>\n",
       "  <tbody>\n",
       "    <tr>\n",
       "      <th>0</th>\n",
       "      <td>2023-01-03 01:00:39</td>\n",
       "      <td>2023-01-03 13:00:02</td>\n",
       "      <td>buy</td>\n",
       "      <td>0.96</td>\n",
       "      <td>1828.67</td>\n",
       "      <td>1834.42</td>\n",
       "      <td>552.00</td>\n",
       "      <td>False</td>\n",
       "      <td>719.383333</td>\n",
       "      <td>1</td>\n",
       "      <td>Tuesday</td>\n",
       "      <td>0.314436</td>\n",
       "      <td>0.314436</td>\n",
       "    </tr>\n",
       "    <tr>\n",
       "      <th>1</th>\n",
       "      <td>2023-01-03 15:17:31</td>\n",
       "      <td>2023-01-03 17:28:39</td>\n",
       "      <td>buy</td>\n",
       "      <td>1.31</td>\n",
       "      <td>1838.97</td>\n",
       "      <td>1832.77</td>\n",
       "      <td>-812.20</td>\n",
       "      <td>True</td>\n",
       "      <td>131.133333</td>\n",
       "      <td>15</td>\n",
       "      <td>Tuesday</td>\n",
       "      <td>-0.337145</td>\n",
       "      <td>-0.337145</td>\n",
       "    </tr>\n",
       "    <tr>\n",
       "      <th>2</th>\n",
       "      <td>2023-01-03 17:28:44</td>\n",
       "      <td>2023-01-03 17:30:29</td>\n",
       "      <td>buy</td>\n",
       "      <td>26.64</td>\n",
       "      <td>1833.00</td>\n",
       "      <td>1832.64</td>\n",
       "      <td>-959.04</td>\n",
       "      <td>True</td>\n",
       "      <td>1.750000</td>\n",
       "      <td>17</td>\n",
       "      <td>Tuesday</td>\n",
       "      <td>-0.019640</td>\n",
       "      <td>-0.019640</td>\n",
       "    </tr>\n",
       "    <tr>\n",
       "      <th>3</th>\n",
       "      <td>2023-01-03 22:55:02</td>\n",
       "      <td>2023-01-04 02:00:00</td>\n",
       "      <td>buy</td>\n",
       "      <td>2.31</td>\n",
       "      <td>1838.35</td>\n",
       "      <td>1836.45</td>\n",
       "      <td>-438.90</td>\n",
       "      <td>False</td>\n",
       "      <td>184.966667</td>\n",
       "      <td>22</td>\n",
       "      <td>Tuesday</td>\n",
       "      <td>-0.103354</td>\n",
       "      <td>-0.103354</td>\n",
       "    </tr>\n",
       "    <tr>\n",
       "      <th>4</th>\n",
       "      <td>2023-01-04 03:16:37</td>\n",
       "      <td>2023-01-04 17:15:00</td>\n",
       "      <td>buy</td>\n",
       "      <td>2.25</td>\n",
       "      <td>1839.48</td>\n",
       "      <td>1850.17</td>\n",
       "      <td>2405.25</td>\n",
       "      <td>False</td>\n",
       "      <td>838.383333</td>\n",
       "      <td>3</td>\n",
       "      <td>Wednesday</td>\n",
       "      <td>0.581142</td>\n",
       "      <td>0.581142</td>\n",
       "    </tr>\n",
       "  </tbody>\n",
       "</table>\n",
       "</div>"
      ],
      "text/plain": [
       "            EntryDate            ExitDate Type  Volume  EntryPrice  ExitPrice  \\\n",
       "0 2023-01-03 01:00:39 2023-01-03 13:00:02  buy    0.96     1828.67    1834.42   \n",
       "1 2023-01-03 15:17:31 2023-01-03 17:28:39  buy    1.31     1838.97    1832.77   \n",
       "2 2023-01-03 17:28:44 2023-01-03 17:30:29  buy   26.64     1833.00    1832.64   \n",
       "3 2023-01-03 22:55:02 2023-01-04 02:00:00  buy    2.31     1838.35    1836.45   \n",
       "4 2023-01-04 03:16:37 2023-01-04 17:15:00  buy    2.25     1839.48    1850.17   \n",
       "\n",
       "    Profit  StopLoss    Duration  EntryHour   EntryDay  PriceChangePct  \\\n",
       "0   552.00     False  719.383333          1    Tuesday        0.314436   \n",
       "1  -812.20      True  131.133333         15    Tuesday       -0.337145   \n",
       "2  -959.04      True    1.750000         17    Tuesday       -0.019640   \n",
       "3  -438.90     False  184.966667         22    Tuesday       -0.103354   \n",
       "4  2405.25     False  838.383333          3  Wednesday        0.581142   \n",
       "\n",
       "   ReturnPct  \n",
       "0   0.314436  \n",
       "1  -0.337145  \n",
       "2  -0.019640  \n",
       "3  -0.103354  \n",
       "4   0.581142  "
      ]
     },
     "execution_count": 48,
     "metadata": {},
     "output_type": "execute_result"
    }
   ],
   "source": [
    "# Extract time-based features\n",
    "trades_df['EntryHour'] = trades_df['EntryDate'].dt.hour\n",
    "trades_df['EntryDay'] = trades_df['EntryDate'].dt.day_name()\n",
    "\n",
    "# Calculate price change percentage\n",
    "trades_df['PriceChangePct'] = (trades_df['ExitPrice'] - trades_df['EntryPrice']) / trades_df['EntryPrice'] * 100\n",
    "\n",
    "trades_df['ReturnPct'] = trades_df['Profit'] / (trades_df['Volume'] * trades_df['EntryPrice'])\n",
    "\n",
    "trades_df.head()"
   ]
  },
  {
   "cell_type": "markdown",
   "metadata": {},
   "source": [
    "Analyze Losing vs Winning Trades"
   ]
  },
  {
   "cell_type": "code",
   "execution_count": null,
   "metadata": {},
   "outputs": [
    {
     "name": "stdout",
     "output_type": "stream",
     "text": [
      "% of Losing Trades with Stop Loss: 58.6%\n",
      "Avg Duration (Losing): 141.3 minutes\n",
      "Avg Duration (Winning): 1453.5 minutes\n",
      "Losing Trades by Type:\n",
      "Type\n",
      "buy     596\n",
      "sell    469\n",
      "Name: count, dtype: int64\n"
     ]
    }
   ],
   "source": [
    "# Separate losing and winning trades\n",
    "losing = trades_df[trades_df['Profit'] < 0]\n",
    "winning = trades_df[trades_df['Profit'] >= 0]\n",
    "\n",
    "# Pattern 1: Time of Day Analysis\n",
    "print(\"Losing Trades by Hour:\")\n",
    "print(losing['EntryHour'].value_counts().sort_index())\n",
    "\n",
    "# Pattern 2: Stop Loss Impact\n",
    "print(f\"% of Losing Trades with Stop Loss: {losing['StopLoss'].mean() * 100:.1f}%\")\n",
    "\n",
    "# Pattern 3: Trade Duration\n",
    "print(f\"Avg Duration (Losing): {losing['Duration'].mean():.1f} minutes\")\n",
    "print(f\"Avg Duration (Winning): {winning['Duration'].mean():.1f} minutes\")\n",
    "\n",
    "# Pattern 4: Trade Type Analysis\n",
    "print(\"Losing Trades by Type:\")\n",
    "print(losing['Type'].value_counts())"
   ]
  },
  {
   "cell_type": "markdown",
   "metadata": {},
   "source": [
    "Visualize Key Metrics"
   ]
  },
  {
   "cell_type": "code",
   "execution_count": 50,
   "metadata": {},
   "outputs": [
    {
     "data": {
      "image/png": "[encoded data removed]",
      "text/plain": [
       "<Figure size 1200x600 with 1 Axes>"
      ]
     },
     "metadata": {},
     "output_type": "display_data"
    },
    {
     "name": "stderr",
     "output_type": "stream",
     "text": [
      "/tmp/ipykernel_34673/1026293181.py:19: FutureWarning: \n",
      "\n",
      "Passing `palette` without assigning `hue` is deprecated and will be removed in v0.14.0. Assign the `x` variable to `hue` and set `legend=False` for the same effect.\n",
      "\n",
      "  sns.boxplot(x=np.where(trades_df['Profit'] >= 0, 'Winning', 'Losing'),\n"
     ]
    },
    {
     "data": {
      "image/png": "[encoded data removed]",
      "text/plain": [
       "<Figure size 1000x600 with 1 Axes>"
      ]
     },
     "metadata": {},
     "output_type": "display_data"
    },
    {
     "data": {
      "image/png": "[encoded data removed]",
      "text/plain": [
       "<Figure size 1200x600 with 1 Axes>"
      ]
     },
     "metadata": {},
     "output_type": "display_data"
    }
   ],
   "source": [
    "# 1. Combined Win/Loss by Hour Plot\n",
    "plt.figure(figsize=(12, 6))\n",
    "all_hours = pd.Series(range(24))\n",
    "winning_hours = trades_df[trades_df['Profit'] >= 0]['EntryHour'].value_counts().reindex(all_hours, fill_value=0)\n",
    "losing_hours = trades_df[trades_df['Profit'] < 0]['EntryHour'].value_counts().reindex(all_hours, fill_value=0)\n",
    "\n",
    "plt.bar(all_hours - 0.2, winning_hours, width=0.4, label='Winning Trades', color='green')\n",
    "plt.bar(all_hours + 0.2, losing_hours, width=0.4, label='Losing Trades', color='red')\n",
    "plt.title('Trading Performance by Hour')\n",
    "plt.xlabel('Entry Hour')\n",
    "plt.ylabel('Number of Trades')\n",
    "plt.legend()\n",
    "plt.xticks(range(24))\n",
    "plt.grid(True, alpha=0.3)\n",
    "plt.show()\n",
    "\n",
    "# 2. Volume Comparison Plot\n",
    "plt.figure(figsize=(10, 6))\n",
    "sns.boxplot(x=np.where(trades_df['Profit'] >= 0, 'Winning', 'Losing'),\n",
    "            y=trades_df['Volume'],\n",
    "            palette=['green', 'red'])\n",
    "plt.title('Trade Volume Distribution')\n",
    "plt.xlabel('Trade Outcome')\n",
    "plt.ylabel('Volume')\n",
    "plt.grid(True, alpha=0.3)\n",
    "plt.show()\n",
    "\n",
    "# 3. P&L by Hour Plot\n",
    "plt.figure(figsize=(12, 6))\n",
    "hourly_pnl = trades_df.groupby('EntryHour')['Profit'].sum()\n",
    "plt.bar(hourly_pnl.index, hourly_pnl.values, color=np.where(hourly_pnl >= 0, 'green', 'red'))\n",
    "plt.title('Profit/Loss by Entry Hour')\n",
    "plt.xlabel('Entry Hour')\n",
    "plt.ylabel('Net Profit')\n",
    "plt.grid(True, alpha=0.3)\n",
    "plt.axhline(0, color='black', linewidth=0.8)\n",
    "plt.show()"
   ]
  }
 ],
 "metadata": {
  "kernelspec": {
   "display_name": ".venv",
   "language": "python",
   "name": "python3"
  },
  "language_info": {
   "codemirror_mode": {
    "name": "ipython",
    "version": 3
   },
   "file_extension": ".py",
   "mimetype": "text/x-python",
   "name": "python",
   "nbconvert_exporter": "python",
   "pygments_lexer": "ipython3",
   "version": "3.12.3"
  }
 },
 "nbformat": 4,
 "nbformat_minor": 2
}
