{
 "cells": [
  {
   "cell_type": "code",
   "execution_count": 1,
   "metadata": {},
   "outputs": [],
   "source": [
    "import pandas as pd\n",
    "import numpy as np\n",
    "import matplotlib.pyplot as plt"
   ]
  },
  {
   "cell_type": "code",
   "execution_count": null,
   "metadata": {},
   "outputs": [],
   "source": [
    "# Load backtest results\n",
    "file_path = 'backtest_results.csv'  # Update with your actual file path\n",
    "data = pd.read_csv(file_path)\n",
    "\n",
    "# Inspect the data\n",
    "print(data.head())\n",
    "print(data.info())\n",
    "\n",
    "# Ensure datetime format if there's a timestamp column\n",
    "if 'timestamp' in data.columns:\n",
    "    data['timestamp'] = pd.to_datetime(data['timestamp'])\n",
    "    data.set_index('timestamp', inplace=True)\n",
    "\n",
    "# Calculate basic performance metrics\n",
    "initial_balance = 10000  # Adjust as needed\n",
    "data['cumulative_pnl'] = data['pnl'].cumsum() + initial_balance\n",
    "data['drawdown'] = data['cumulative_pnl'] - data['cumulative_pnl'].cummax()\n",
    "data['drawdown_pct'] = data['drawdown'] / data['cumulative_pnl'].cummax()\n",
    "\n",
    "# Performance metrics\n",
    "total_return = data['cumulative_pnl'].iloc[-1] - initial_balance\n",
    "max_drawdown = data['drawdown'].min()\n",
    "max_drawdown_pct = data['drawdown_pct'].min()\n",
    "avg_trade = data['pnl'].mean()\n",
    "win_rate = (data['pnl'] > 0).mean()\n",
    "sharpe_ratio = data['pnl'].mean() / data['pnl'].std() * np.sqrt(252)\n",
    "\n",
    "# Print performance metrics\n",
    "print(f\"Total Return: ${total_return:.2f}\")\n",
    "print(f\"Max Drawdown: ${max_drawdown:.2f} ({max_drawdown_pct:.2%})\")\n",
    "print(f\"Average Trade: ${avg_trade:.2f}\")\n",
    "print(f\"Win Rate: {win_rate:.2%}\")\n",
    "print(f\"Sharpe Ratio: {sharpe_ratio:.2f}\")\n",
    "\n",
    "# Visualize equity curve and drawdowns\n",
    "plt.figure(figsize=(10, 6))\n",
    "plt.plot(data['cumulative_pnl'], label='Equity Curve')\n",
    "plt.fill_between(data.index, data['cumulative_pnl'], data['cumulative_pnl'].cummax(), color='red', alpha=0.3, label='Drawdown')\n",
    "plt.legend()\n",
    "plt.title('Equity Curve with Drawdowns')\n",
    "plt.xlabel('Time')\n",
    "plt.ylabel('Account Balance')\n",
    "plt.show()\n"
   ]
  }
 ],
 "metadata": {
  "kernelspec": {
   "display_name": ".venv",
   "language": "python",
   "name": "python3"
  },
  "language_info": {
   "codemirror_mode": {
    "name": "ipython",
    "version": 3
   },
   "file_extension": ".py",
   "mimetype": "text/x-python",
   "name": "python",
   "nbconvert_exporter": "python",
   "pygments_lexer": "ipython3",
   "version": "3.12.3"
  }
 },
 "nbformat": 4,
 "nbformat_minor": 2
}
